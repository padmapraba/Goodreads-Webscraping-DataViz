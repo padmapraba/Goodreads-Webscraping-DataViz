{
 "cells": [
  {
   "cell_type": "code",
   "execution_count": 1,
   "metadata": {},
   "outputs": [],
   "source": [
    "import requests\n",
    "from bs4 import BeautifulSoup as bs\n",
    "import pandas as pd\n",
    "import matplotlib.pyplot as plt\n",
    "import seaborn as sns\n",
    "from os import path\n",
    "from wordcloud import WordCloud, STOPWORDS\n",
    "import scipy.stats"
   ]
  },
  {
   "cell_type": "markdown",
   "metadata": {},
   "source": [
    "##### Must include a write-up for what the data is, what it represents, and how it is being used in the analysis."
   ]
  },
  {
   "cell_type": "code",
   "execution_count": 2,
   "metadata": {},
   "outputs": [],
   "source": [
    "url = 'https://www.goodreads.com/list/show/1.Best_Books_Ever'\n",
    "url2 = 'https://www.goodreads.com/list/show/1.Best_Books_Ever?page=2'\n",
    "page = requests.get(url) \n",
    "page2 = requests.get(url2)\n",
    "soup = bs(page.content, 'html.parser')\n",
    "soup2 = bs(page2.content, 'html.parser')\n",
    "titles = soup.find_all('a', class_='bookTitle')\n",
    "titles2 = soup2.find_all('a', class_='bookTitle')\n",
    "authors = soup.find_all('a', class_='authorName')\n",
    "authors2 = soup2.find_all('a', class_='authorName')\n",
    "info = soup.find_all('span', class_='minirating')\n",
    "info2 = soup2.find_all('span', class_='minirating')\n",
    "\n"
   ]
  },
  {
   "cell_type": "code",
   "execution_count": 3,
   "metadata": {},
   "outputs": [],
   "source": [
    "bookTitle = []\n",
    "for ind in range(len(titles)):\n",
    "    t = titles[ind]\n",
    "    book = t.get_text()\n",
    "    book = book.split(' (')[0]\n",
    "    bookTitle.append((book.strip()))\n",
    "\n",
    "    \n",
    "bookAuthor = []\n",
    "for ind in range(len(authors)):\n",
    "    a = authors[ind]\n",
    "    book = a.get_text()\n",
    "    #book = book.split(' (')[0]\n",
    "    bookAuthor.append((book))\n",
    "    \n",
    "bookRating = []\n",
    "bookNumReviews = []\n",
    "#bookPub = []\n",
    "for ind in range(len(info)):\n",
    "    s = info[ind].get_text()\n",
    "    s.strip(' ')\n",
    "\n",
    "    r = s.split('—')[0].strip()\n",
    "    n = s.split('—')[1].strip()\n",
    "    #pub = s.split('—')[2].strip()\n",
    "    if (r.split(' ')[0] == 'really'):\n",
    "        r = r.split(' ')[3]\n",
    "    else:\n",
    "        r = r.split(' ')[0]\n",
    "    n = n.split(' ')[0]\n",
    "    #pub = pub[-4:]\n",
    "    bookRating.append(float(r))\n",
    "    bookNumReviews.append(int(n.replace(',','')))\n",
    "    #bookPub.append(int(pub))\n",
    "  "
   ]
  },
  {
   "cell_type": "code",
   "execution_count": 4,
   "metadata": {},
   "outputs": [],
   "source": [
    "for ind in range(len(titles2)):\n",
    "    t = titles2[ind]\n",
    "    book = t.get_text()\n",
    "    book = book.split(' (')[0]\n",
    "    bookTitle.append((book.strip()))\n",
    "\n",
    "\n",
    "for ind in range(len(authors2)):\n",
    "    a = authors2[ind]\n",
    "    book = a.get_text()\n",
    "    #book = book.split(' (')[0]\n",
    "    bookAuthor.append((book))\n",
    "    \n",
    "\n",
    "for ind in range(len(info2)):\n",
    "    s = info2[ind].get_text()\n",
    "    s.strip(' ')\n",
    "\n",
    "    r = s.split('—')[0].strip()\n",
    "    n = s.split('—')[1].strip()\n",
    "    #pub = s.split('—')[2].strip()\n",
    "    if (r.split(' ')[0] == 'really'):\n",
    "        r = r.split(' ')[3]\n",
    "    else:\n",
    "        r = r.split(' ')[0]\n",
    "    n = n.split(' ')[0]\n",
    "\n",
    "    bookRating.append(float(r))\n",
    "    bookNumReviews.append(int(n.replace(',','')))"
   ]
  },
  {
   "cell_type": "markdown",
   "metadata": {},
   "source": [
    "#### Include a write-up on how you cleaned the data and any issues in the data that you may have come across."
   ]
  },
  {
   "cell_type": "code",
   "execution_count": 5,
   "metadata": {},
   "outputs": [
    {
     "data": {
      "text/html": [
       "<div>\n",
       "<style scoped>\n",
       "    .dataframe tbody tr th:only-of-type {\n",
       "        vertical-align: middle;\n",
       "    }\n",
       "\n",
       "    .dataframe tbody tr th {\n",
       "        vertical-align: top;\n",
       "    }\n",
       "\n",
       "    .dataframe thead th {\n",
       "        text-align: right;\n",
       "    }\n",
       "</style>\n",
       "<table border=\"1\" class=\"dataframe\">\n",
       "  <thead>\n",
       "    <tr style=\"text-align: right;\">\n",
       "      <th></th>\n",
       "      <th>Title</th>\n",
       "      <th>Author</th>\n",
       "      <th>Rating</th>\n",
       "      <th>Number of Reviews</th>\n",
       "    </tr>\n",
       "  </thead>\n",
       "  <tbody>\n",
       "    <tr>\n",
       "      <th>0</th>\n",
       "      <td>The Hunger Games</td>\n",
       "      <td>Suzanne Collins</td>\n",
       "      <td>4.32</td>\n",
       "      <td>7064387</td>\n",
       "    </tr>\n",
       "    <tr>\n",
       "      <th>1</th>\n",
       "      <td>Harry Potter and the Order of the Phoenix</td>\n",
       "      <td>J.K. Rowling</td>\n",
       "      <td>4.50</td>\n",
       "      <td>2811246</td>\n",
       "    </tr>\n",
       "    <tr>\n",
       "      <th>2</th>\n",
       "      <td>To Kill a Mockingbird</td>\n",
       "      <td>Harper Lee</td>\n",
       "      <td>4.27</td>\n",
       "      <td>5031451</td>\n",
       "    </tr>\n",
       "    <tr>\n",
       "      <th>3</th>\n",
       "      <td>Pride and Prejudice</td>\n",
       "      <td>Jane Austen</td>\n",
       "      <td>4.27</td>\n",
       "      <td>3411901</td>\n",
       "    </tr>\n",
       "    <tr>\n",
       "      <th>4</th>\n",
       "      <td>Twilight</td>\n",
       "      <td>Stephenie Meyer</td>\n",
       "      <td>3.62</td>\n",
       "      <td>5497764</td>\n",
       "    </tr>\n",
       "    <tr>\n",
       "      <th>...</th>\n",
       "      <td>...</td>\n",
       "      <td>...</td>\n",
       "      <td>...</td>\n",
       "      <td>...</td>\n",
       "    </tr>\n",
       "    <tr>\n",
       "      <th>195</th>\n",
       "      <td>Murder on the Orient Express</td>\n",
       "      <td>Agatha Christie</td>\n",
       "      <td>4.18</td>\n",
       "      <td>461077</td>\n",
       "    </tr>\n",
       "    <tr>\n",
       "      <th>196</th>\n",
       "      <td>The Clan of the Cave Bear</td>\n",
       "      <td>Jean M. Auel</td>\n",
       "      <td>4.07</td>\n",
       "      <td>244388</td>\n",
       "    </tr>\n",
       "    <tr>\n",
       "      <th>197</th>\n",
       "      <td>The Canterbury Tales</td>\n",
       "      <td>Geoffrey Chaucer</td>\n",
       "      <td>3.52</td>\n",
       "      <td>203535</td>\n",
       "    </tr>\n",
       "    <tr>\n",
       "      <th>198</th>\n",
       "      <td>The World According to Garp</td>\n",
       "      <td>John Irving</td>\n",
       "      <td>4.09</td>\n",
       "      <td>212940</td>\n",
       "    </tr>\n",
       "    <tr>\n",
       "      <th>199</th>\n",
       "      <td>A Farewell to Arms</td>\n",
       "      <td>Ernest Hemingway</td>\n",
       "      <td>3.81</td>\n",
       "      <td>282934</td>\n",
       "    </tr>\n",
       "  </tbody>\n",
       "</table>\n",
       "<p>200 rows × 4 columns</p>\n",
       "</div>"
      ],
      "text/plain": [
       "                                         Title            Author  Rating  \\\n",
       "0                             The Hunger Games   Suzanne Collins    4.32   \n",
       "1    Harry Potter and the Order of the Phoenix      J.K. Rowling    4.50   \n",
       "2                        To Kill a Mockingbird        Harper Lee    4.27   \n",
       "3                          Pride and Prejudice       Jane Austen    4.27   \n",
       "4                                     Twilight   Stephenie Meyer    3.62   \n",
       "..                                         ...               ...     ...   \n",
       "195               Murder on the Orient Express   Agatha Christie    4.18   \n",
       "196                  The Clan of the Cave Bear      Jean M. Auel    4.07   \n",
       "197                       The Canterbury Tales  Geoffrey Chaucer    3.52   \n",
       "198                The World According to Garp       John Irving    4.09   \n",
       "199                         A Farewell to Arms  Ernest Hemingway    3.81   \n",
       "\n",
       "     Number of Reviews  \n",
       "0              7064387  \n",
       "1              2811246  \n",
       "2              5031451  \n",
       "3              3411901  \n",
       "4              5497764  \n",
       "..                 ...  \n",
       "195             461077  \n",
       "196             244388  \n",
       "197             203535  \n",
       "198             212940  \n",
       "199             282934  \n",
       "\n",
       "[200 rows x 4 columns]"
      ]
     },
     "execution_count": 5,
     "metadata": {},
     "output_type": "execute_result"
    }
   ],
   "source": [
    "books = {\n",
    "    \"Title\": bookTitle,\n",
    "    \"Author\": bookAuthor,\n",
    "    \"Rating\": bookRating,\n",
    "    \"Number of Reviews\": bookNumReviews\n",
    "    #\"Publication\": bookPub\n",
    "}\n",
    "\n",
    "book_df = pd.DataFrame(books)\n",
    "#book_df.to_csv(r'/Users/padmaprabagaran/Desktop/DAT 301/Final/books.csv')\n",
    "book_df"
   ]
  },
  {
   "cell_type": "markdown",
   "metadata": {},
   "source": [
    "### Graphs\n",
    "+15 points possible\n",
    "\n",
    "- At least 1 graph in MatPlotLib and at least 1 graph in Seaborn.\n",
    "- Graphs should be formatted with x- and y-axis labels, coloring, and titles.  The individual observations (such as rectangles of bar charts or wedges of pie charts) should include labels, where applicable.\n",
    "- There should be a total of 3 unique graphs types.\n",
    "- Include a write-up describing what data you are visualizing and any points of interest that stick out to you.  If it is not obvious, include a description of why you chose the specific visualization.\n"
   ]
  },
  {
   "cell_type": "markdown",
   "metadata": {},
   "source": [
    "#### Which books have the highest rating in the dataset?"
   ]
  },
  {
   "cell_type": "code",
   "execution_count": 25,
   "metadata": {
    "scrolled": false
   },
   "outputs": [
    {
     "data": {
      "image/png": "[encoded data removed]",
      "text/plain": [
       "<Figure size 1152x648 with 1 Axes>"
      ]
     },
     "metadata": {
      "needs_background": "light"
     },
     "output_type": "display_data"
    }
   ],
   "source": [
    "# Matplotlib\n",
    "df = book_df.sort_values('Rating', ascending=False).head(10)\n",
    "rating = df['Rating']\n",
    "title = df['Title']\n",
    "fig, ax = plt.subplots(figsize=(16, 9))\n",
    "col = ['#ec4132', '#004F32','#FBD35A','#7E3CA8','#A8BD56','#64483D','#BB7F89', '#317248','#519FB3','#0275AC']\n",
    "\n",
    "ax.barh(title,rating, color=col)\n",
    "\n",
    "for s in ['top', 'bottom', 'left', 'right']:\n",
    "    ax.spines[s].set_visible(False)\n",
    "  \n",
    "ax.xaxis.set_ticks_position('none')\n",
    "ax.yaxis.set_ticks_position('none')\n",
    "ax.invert_yaxis()\n",
    "\n",
    "for i in ax.patches:\n",
    "    plt.text(i.get_width()+0.005, i.get_y()+0.5,\n",
    "             str(round((i.get_width()), 2)),\n",
    "             fontsize=10, fontweight='bold',\n",
    "             color='black')\n",
    "\n",
    "plt.xlabel(\"Rating\", fontweight='bold')\n",
    "plt.ylabel(\"Book Titles\",fontweight='bold')\n",
    "plt.title(\"Top Ten Books by Reader Ratings\", fontweight='bold')\n",
    "plt.xlim(4,5)\n",
    "plt.xticks(weight = 'bold')\n",
    "plt.yticks(weight = 'bold')\n",
    "\n",
    "plt.show()"
   ]
  },
  {
   "cell_type": "markdown",
   "metadata": {},
   "source": [
    "#### Are the Number of Reviews and the Average Rating of books related?"
   ]
  },
  {
   "cell_type": "code",
   "execution_count": 27,
   "metadata": {},
   "outputs": [
    {
     "data": {
      "text/plain": [
       "<Figure size 1080x720 with 0 Axes>"
      ]
     },
     "metadata": {},
     "output_type": "display_data"
    },
    {
     "data": {
      "image/png": "[encoded data removed]",
      "text/plain": [
       "<Figure size 432x432 with 3 Axes>"
      ]
     },
     "metadata": {
      "needs_background": "light"
     },
     "output_type": "display_data"
    }
   ],
   "source": [
    "# Seaborn\n",
    "\n",
    "#Checking for any relation between them.\n",
    "plt.figure(figsize=(15,10))\n",
    "sns.set_context('paper')\n",
    "ax =sns.jointplot(y=\"Rating\",x='Number of Reviews', kind='scatter',  \n",
    "                  data= book_df[['Number of Reviews', 'Rating']],color='#553b08')\n",
    "ax.set_axis_labels(\"Number of Reviews\", \"Average Rating\")\n",
    "ax.ax_marg_x.set_xlim(0.5)\n",
    "plt.xlim(0,5)\n",
    "plt.show()\n"
   ]
  },
  {
   "cell_type": "markdown",
   "metadata": {},
   "source": [
    "Above we have a jointplot, this plot depicts how the avergage rating of a book varies with the number of reviews a book has. The marginal plots depict the distribution of each variable, i.e. Avergage Rating and the Number of Reviews of books in the dataset. We can see by lookking at the marginal plots that the variable 'Number of Reviews' is heavily skewed to the right whereas 'Average Rating' appears to be normally distibuted with a possibility of one outlier. The main plot shows us that there is not much of a association between the variables since the points seem to be clustered along the y-axis. Thus there is no realtion between the Average Rating of a book and the Number of Reviews it has."
   ]
  },
  {
   "cell_type": "code",
   "execution_count": 323,
   "metadata": {
    "scrolled": true
   },
   "outputs": [
    {
     "data": {
      "image/png": "[encoded data removed]",
      "text/plain": [
       "<Figure size 1224x720 with 1 Axes>"
      ]
     },
     "metadata": {
      "needs_background": "light"
     },
     "output_type": "display_data"
    }
   ],
   "source": [
    "# Which are the authors with most books on the bestsellers list\n",
    "\n",
    "sns.set_context('talk')\n",
    "most_books = book_df.groupby('Author')['Title'].count().reset_index().sort_values('Title', ascending=False).head(10).set_index('Author')\n",
    "plt.figure(figsize=(17,10))\n",
    "ax = sns.barplot(most_books['Title'], \n",
    "                 most_books.index, \n",
    "                 palette='icefire_r')\n",
    "\n",
    "ax.set_title(\"Authors with most books in the List\")\n",
    "ax.set_xlabel(\"Total number of books\")\n",
    "\n",
    "for i in ax.patches:\n",
    "    ax.text(i.get_width()+.05, i.get_y()+0.5, \n",
    "            str(round(i.get_width())), fontsize = 10,\n",
    "            color = 'k',fontweight='bold')\n",
    "\n"
   ]
  },
  {
   "cell_type": "code",
   "execution_count": null,
   "metadata": {},
   "outputs": [],
   "source": []
  },
  {
   "cell_type": "markdown",
   "metadata": {},
   "source": []
  },
  {
   "cell_type": "markdown",
   "metadata": {},
   "source": [
    "### Statistical Analysis\n",
    "One-Sample T-Test: \n",
    "\n",
    "Assumptions:\n",
    "\n",
    "We are assuming that our population is normally distributed, since the distribution of Ratings from the joint plot above was fairly normal and the sample size = 200 which is greater than 30, thus the Central Limit Theorem applies. \n",
    "\n",
    "(i) &nbsp;  H<sub>o</sub>: $\\mu$ = 4 <br>\n",
    "&nbsp;&nbsp;&nbsp;&nbsp;&nbsp;         H<sub>a</sub>: $\\mu$ $\\ne$ 4\n",
    "\n",
    "The null hypothesis H<sub>o</sub> states that the estimated population parameter of the average rating of books in the list on Goodreads is 4.\n",
    "\n",
    "The alternative hypothesis H<sub>a</sub> states that the population parameter does not equal the null hypothesis value, which is that the mean rating of books on the Goodreads List differs from 4\n",
    "\n",
    "(ii) Find the test statistic:\n",
    "\n",
    "t<sub>obs</sub> = $\\frac{(\\bar{x} - \\mu)} {( \\frac{s_x}{√n} )}$\n",
    "\n",
    "\n",
    "Since the population variance is unknown the appropriate hypothesis test for this case is the T test.\n",
    "\n",
    " \n"
   ]
  },
  {
   "cell_type": "markdown",
   "metadata": {},
   "source": [
    "\n",
    "\n"
   ]
  },
  {
   "cell_type": "code",
   "execution_count": 337,
   "metadata": {},
   "outputs": [
    {
     "data": {
      "text/plain": [
       "7.065694825790994"
      ]
     },
     "execution_count": 337,
     "metadata": {},
     "output_type": "execute_result"
    }
   ],
   "source": [
    "xbar = book_df['Rating'].mean()\n",
    "s = book_df['Rating'].std()\n",
    "n = book_df['Rating'].count()\n",
    "\n",
    "# test statistic T\n",
    "tob = (xbar - 4)/(s/(n**(1/2)))\n",
    "tob"
   ]
  },
  {
   "cell_type": "code",
   "execution_count": 338,
   "metadata": {},
   "outputs": [
    {
     "data": {
      "text/plain": [
       "1.971956544249395"
      ]
     },
     "execution_count": 338,
     "metadata": {},
     "output_type": "execute_result"
    }
   ],
   "source": [
    "# T critical value\n",
    "scipy.stats.t.ppf(q=1-.05/2,df=n-1)"
   ]
  },
  {
   "cell_type": "code",
   "execution_count": 342,
   "metadata": {},
   "outputs": [
    {
     "ename": "AttributeError",
     "evalue": "'numpy.float64' object has no attribute 'cdf'",
     "output_type": "error",
     "traceback": [
      "\u001b[0;31m---------------------------------------------------------------------------\u001b[0m",
      "\u001b[0;31mAttributeError\u001b[0m                            Traceback (most recent call last)",
      "\u001b[0;32m<ipython-input-342-ff633900de63>\u001b[0m in \u001b[0;36m<module>\u001b[0;34m\u001b[0m\n\u001b[0;32m----> 1\u001b[0;31m \u001b[0mt\u001b[0m\u001b[0;34m.\u001b[0m\u001b[0mcdf\u001b[0m\u001b[0;34m\u001b[0m\u001b[0;34m\u001b[0m\u001b[0m\n\u001b[0m",
      "\u001b[0;31mAttributeError\u001b[0m: 'numpy.float64' object has no attribute 'cdf'"
     ]
    }
   ],
   "source": []
  },
  {
   "cell_type": "code",
   "execution_count": 346,
   "metadata": {},
   "outputs": [
    {
     "data": {
      "text/plain": [
       "<scipy.stats._distn_infrastructure.rv_frozen at 0x7f8c8b6012d0>"
      ]
     },
     "execution_count": 346,
     "metadata": {},
     "output_type": "execute_result"
    }
   ],
   "source": [
    "\n"
   ]
  },
  {
   "cell_type": "code",
   "execution_count": null,
   "metadata": {},
   "outputs": [],
   "source": [
    "2 × (1 – tcdf(-1099,1.8529,49)) = 0.0699"
   ]
  }
 ],
 "metadata": {
  "kernelspec": {
   "display_name": "Python 3",
   "language": "python",
   "name": "python3"
  },
  "language_info": {
   "codemirror_mode": {
    "name": "ipython",
    "version": 3
   },
   "file_extension": ".py",
   "mimetype": "text/x-python",
   "name": "python",
   "nbconvert_exporter": "python",
   "pygments_lexer": "ipython3",
   "version": "3.7.6"
  }
 },
 "nbformat": 4,
 "nbformat_minor": 4
}
